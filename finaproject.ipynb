{
 "cells": [
  {
   "cell_type": "code",
   "execution_count": 2,
   "id": "bed69569-0046-4ebe-9d3e-ef49ac6ba820",
   "metadata": {},
   "outputs": [],
   "source": [
    "# Core libraries\n",
    "import pandas as pd\n",
    "import numpy as np\n",
    "import matplotlib.pyplot as plt\n",
    "import seaborn as sns\n",
    "import plotly.express as px  # For interactive maps \n",
    "\n",
    "# Set visual style\n",
    "plt.style.use('ggplot')\n",
    "%matplotlib inline"
   ]
  },
  {
   "cell_type": "code",
   "execution_count": 3,
   "id": "7b2b6e3c-fcfd-424d-b3a7-da27f3905e69",
   "metadata": {},
   "outputs": [
    {
     "name": "stdout",
     "output_type": "stream",
     "text": [
      "✅ Data loaded successfully!\n",
      "📅 Date range: 2020-01-01 to 2024-08-14\n",
      "🌍 Countries: 255\n"
     ]
    },
    {
     "data": {
      "text/html": [
       "<div>\n",
       "<style scoped>\n",
       "    .dataframe tbody tr th:only-of-type {\n",
       "        vertical-align: middle;\n",
       "    }\n",
       "\n",
       "    .dataframe tbody tr th {\n",
       "        vertical-align: top;\n",
       "    }\n",
       "\n",
       "    .dataframe thead th {\n",
       "        text-align: right;\n",
       "    }\n",
       "</style>\n",
       "<table border=\"1\" class=\"dataframe\">\n",
       "  <thead>\n",
       "    <tr style=\"text-align: right;\">\n",
       "      <th></th>\n",
       "      <th>iso_code</th>\n",
       "      <th>continent</th>\n",
       "      <th>location</th>\n",
       "      <th>date</th>\n",
       "      <th>total_cases</th>\n",
       "      <th>new_cases</th>\n",
       "      <th>new_cases_smoothed</th>\n",
       "      <th>total_deaths</th>\n",
       "      <th>new_deaths</th>\n",
       "      <th>new_deaths_smoothed</th>\n",
       "      <th>...</th>\n",
       "      <th>male_smokers</th>\n",
       "      <th>handwashing_facilities</th>\n",
       "      <th>hospital_beds_per_thousand</th>\n",
       "      <th>life_expectancy</th>\n",
       "      <th>human_development_index</th>\n",
       "      <th>population</th>\n",
       "      <th>excess_mortality_cumulative_absolute</th>\n",
       "      <th>excess_mortality_cumulative</th>\n",
       "      <th>excess_mortality</th>\n",
       "      <th>excess_mortality_cumulative_per_million</th>\n",
       "    </tr>\n",
       "  </thead>\n",
       "  <tbody>\n",
       "    <tr>\n",
       "      <th>0</th>\n",
       "      <td>AFG</td>\n",
       "      <td>Asia</td>\n",
       "      <td>Afghanistan</td>\n",
       "      <td>2020-01-05</td>\n",
       "      <td>0.0</td>\n",
       "      <td>0.0</td>\n",
       "      <td>NaN</td>\n",
       "      <td>0.0</td>\n",
       "      <td>0.0</td>\n",
       "      <td>NaN</td>\n",
       "      <td>...</td>\n",
       "      <td>NaN</td>\n",
       "      <td>37.746</td>\n",
       "      <td>0.5</td>\n",
       "      <td>64.83</td>\n",
       "      <td>0.511</td>\n",
       "      <td>41128772</td>\n",
       "      <td>NaN</td>\n",
       "      <td>NaN</td>\n",
       "      <td>NaN</td>\n",
       "      <td>NaN</td>\n",
       "    </tr>\n",
       "    <tr>\n",
       "      <th>1</th>\n",
       "      <td>AFG</td>\n",
       "      <td>Asia</td>\n",
       "      <td>Afghanistan</td>\n",
       "      <td>2020-01-06</td>\n",
       "      <td>0.0</td>\n",
       "      <td>0.0</td>\n",
       "      <td>NaN</td>\n",
       "      <td>0.0</td>\n",
       "      <td>0.0</td>\n",
       "      <td>NaN</td>\n",
       "      <td>...</td>\n",
       "      <td>NaN</td>\n",
       "      <td>37.746</td>\n",
       "      <td>0.5</td>\n",
       "      <td>64.83</td>\n",
       "      <td>0.511</td>\n",
       "      <td>41128772</td>\n",
       "      <td>NaN</td>\n",
       "      <td>NaN</td>\n",
       "      <td>NaN</td>\n",
       "      <td>NaN</td>\n",
       "    </tr>\n",
       "    <tr>\n",
       "      <th>2</th>\n",
       "      <td>AFG</td>\n",
       "      <td>Asia</td>\n",
       "      <td>Afghanistan</td>\n",
       "      <td>2020-01-07</td>\n",
       "      <td>0.0</td>\n",
       "      <td>0.0</td>\n",
       "      <td>NaN</td>\n",
       "      <td>0.0</td>\n",
       "      <td>0.0</td>\n",
       "      <td>NaN</td>\n",
       "      <td>...</td>\n",
       "      <td>NaN</td>\n",
       "      <td>37.746</td>\n",
       "      <td>0.5</td>\n",
       "      <td>64.83</td>\n",
       "      <td>0.511</td>\n",
       "      <td>41128772</td>\n",
       "      <td>NaN</td>\n",
       "      <td>NaN</td>\n",
       "      <td>NaN</td>\n",
       "      <td>NaN</td>\n",
       "    </tr>\n",
       "  </tbody>\n",
       "</table>\n",
       "<p>3 rows × 67 columns</p>\n",
       "</div>"
      ],
      "text/plain": [
       "  iso_code continent     location        date  total_cases  new_cases  \\\n",
       "0      AFG      Asia  Afghanistan  2020-01-05          0.0        0.0   \n",
       "1      AFG      Asia  Afghanistan  2020-01-06          0.0        0.0   \n",
       "2      AFG      Asia  Afghanistan  2020-01-07          0.0        0.0   \n",
       "\n",
       "   new_cases_smoothed  total_deaths  new_deaths  new_deaths_smoothed  ...  \\\n",
       "0                 NaN           0.0         0.0                  NaN  ...   \n",
       "1                 NaN           0.0         0.0                  NaN  ...   \n",
       "2                 NaN           0.0         0.0                  NaN  ...   \n",
       "\n",
       "   male_smokers  handwashing_facilities  hospital_beds_per_thousand  \\\n",
       "0           NaN                  37.746                         0.5   \n",
       "1           NaN                  37.746                         0.5   \n",
       "2           NaN                  37.746                         0.5   \n",
       "\n",
       "   life_expectancy  human_development_index  population  \\\n",
       "0            64.83                    0.511    41128772   \n",
       "1            64.83                    0.511    41128772   \n",
       "2            64.83                    0.511    41128772   \n",
       "\n",
       "   excess_mortality_cumulative_absolute  excess_mortality_cumulative  \\\n",
       "0                                   NaN                          NaN   \n",
       "1                                   NaN                          NaN   \n",
       "2                                   NaN                          NaN   \n",
       "\n",
       "   excess_mortality  excess_mortality_cumulative_per_million  \n",
       "0               NaN                                      NaN  \n",
       "1               NaN                                      NaN  \n",
       "2               NaN                                      NaN  \n",
       "\n",
       "[3 rows x 67 columns]"
      ]
     },
     "execution_count": 3,
     "metadata": {},
     "output_type": "execute_result"
    }
   ],
   "source": [
    "# Load COVID-19 data directly from Our World in Data\n",
    "url = \"https://covid.ourworldindata.org/data/owid-covid-data.csv\"\n",
    "df = pd.read_csv(url)\n",
    "\n",
    "# Verify data loaded\n",
    "print(\"✅ Data loaded successfully!\")\n",
    "print(f\"📅 Date range: {df['date'].min()} to {df['date'].max()}\")\n",
    "print(f\"🌍 Countries: {df['location'].nunique()}\")\n",
    "df.head(3)"
   ]
  },
  {
   "cell_type": "code",
   "execution_count": 4,
   "id": "1d5957c3-16f7-41ea-b149-19cba6dcdf24",
   "metadata": {},
   "outputs": [
    {
     "data": {
      "text/html": [
       "<div>\n",
       "<style scoped>\n",
       "    .dataframe tbody tr th:only-of-type {\n",
       "        vertical-align: middle;\n",
       "    }\n",
       "\n",
       "    .dataframe tbody tr th {\n",
       "        vertical-align: top;\n",
       "    }\n",
       "\n",
       "    .dataframe thead th {\n",
       "        text-align: right;\n",
       "    }\n",
       "</style>\n",
       "<table border=\"1\" class=\"dataframe\">\n",
       "  <thead>\n",
       "    <tr style=\"text-align: right;\">\n",
       "      <th></th>\n",
       "      <th>date</th>\n",
       "      <th>location</th>\n",
       "      <th>total_cases</th>\n",
       "      <th>new_cases</th>\n",
       "      <th>total_deaths</th>\n",
       "      <th>people_vaccinated</th>\n",
       "      <th>death_rate</th>\n",
       "    </tr>\n",
       "  </thead>\n",
       "  <tbody>\n",
       "    <tr>\n",
       "      <th>50234</th>\n",
       "      <td>2020-01-05</td>\n",
       "      <td>Brazil</td>\n",
       "      <td>0.0</td>\n",
       "      <td>0.0</td>\n",
       "      <td>0.0</td>\n",
       "      <td>NaN</td>\n",
       "      <td>NaN</td>\n",
       "    </tr>\n",
       "    <tr>\n",
       "      <th>50235</th>\n",
       "      <td>2020-01-06</td>\n",
       "      <td>Brazil</td>\n",
       "      <td>0.0</td>\n",
       "      <td>0.0</td>\n",
       "      <td>0.0</td>\n",
       "      <td>NaN</td>\n",
       "      <td>NaN</td>\n",
       "    </tr>\n",
       "    <tr>\n",
       "      <th>50236</th>\n",
       "      <td>2020-01-07</td>\n",
       "      <td>Brazil</td>\n",
       "      <td>0.0</td>\n",
       "      <td>0.0</td>\n",
       "      <td>0.0</td>\n",
       "      <td>NaN</td>\n",
       "      <td>NaN</td>\n",
       "    </tr>\n",
       "    <tr>\n",
       "      <th>50237</th>\n",
       "      <td>2020-01-08</td>\n",
       "      <td>Brazil</td>\n",
       "      <td>0.0</td>\n",
       "      <td>0.0</td>\n",
       "      <td>0.0</td>\n",
       "      <td>NaN</td>\n",
       "      <td>NaN</td>\n",
       "    </tr>\n",
       "    <tr>\n",
       "      <th>50238</th>\n",
       "      <td>2020-01-09</td>\n",
       "      <td>Brazil</td>\n",
       "      <td>0.0</td>\n",
       "      <td>0.0</td>\n",
       "      <td>0.0</td>\n",
       "      <td>NaN</td>\n",
       "      <td>NaN</td>\n",
       "    </tr>\n",
       "  </tbody>\n",
       "</table>\n",
       "</div>"
      ],
      "text/plain": [
       "            date location  total_cases  new_cases  total_deaths  \\\n",
       "50234 2020-01-05   Brazil          0.0        0.0           0.0   \n",
       "50235 2020-01-06   Brazil          0.0        0.0           0.0   \n",
       "50236 2020-01-07   Brazil          0.0        0.0           0.0   \n",
       "50237 2020-01-08   Brazil          0.0        0.0           0.0   \n",
       "50238 2020-01-09   Brazil          0.0        0.0           0.0   \n",
       "\n",
       "       people_vaccinated  death_rate  \n",
       "50234                NaN         NaN  \n",
       "50235                NaN         NaN  \n",
       "50236                NaN         NaN  \n",
       "50237                NaN         NaN  \n",
       "50238                NaN         NaN  "
      ]
     },
     "execution_count": 4,
     "metadata": {},
     "output_type": "execute_result"
    }
   ],
   "source": [
    "# Create a clean copy of the data\n",
    "covid = df.copy()\n",
    "\n",
    "# Convert date column to datetime\n",
    "covid['date'] = pd.to_datetime(covid['date'])\n",
    "\n",
    "# Select key columns and countries\n",
    "countries = ['Kenya', 'United States', 'India', 'Brazil', 'Germany']\n",
    "cols = ['date', 'location', 'total_cases', 'new_cases', 'total_deaths', 'people_vaccinated']\n",
    "\n",
    "# Filter and clean\n",
    "covid_clean = covid.loc[covid['location'].isin(countries), cols].dropna(subset=['total_cases'])\n",
    "\n",
    "# Calculate death rate\n",
    "covid_clean['death_rate'] = (covid_clean['total_deaths'] / covid_clean['total_cases'] * 100).round(2)\n",
    "\n",
    "# Show cleaned data\n",
    "covid_clean.head()"
   ]
  },
  {
   "cell_type": "code",
   "execution_count": 5,
   "id": "06fbede9-a807-47f1-8946-f660bdfc50dc",
   "metadata": {},
   "outputs": [
    {
     "data": {
      "image/png": "[encoded data removed]",
      "text/plain": [
       "<Figure size 1200x600 with 1 Axes>"
      ]
     },
     "metadata": {},
     "output_type": "display_data"
    }
   ],
   "source": [
    "# Plot total cases over time\n",
    "plt.figure(figsize=(12, 6))\n",
    "for country in countries:\n",
    "    country_data = covid_clean[covid_clean['location'] == country]\n",
    "    plt.plot(country_data['date'], country_data['total_cases'], label=country, linewidth=2)\n",
    "\n",
    "plt.title('Total COVID-19 Cases Over Time', fontsize=14)\n",
    "plt.xlabel('Date', fontsize=12)\n",
    "plt.ylabel('Total Cases (millions)', fontsize=12)\n",
    "plt.legend()\n",
    "plt.grid(True)\n",
    "plt.show()"
   ]
  },
  {
   "cell_type": "code",
   "execution_count": 6,
   "id": "7ed1b11e-07f2-4deb-9dff-a96541ddaddb",
   "metadata": {},
   "outputs": [
    {
     "data": {
      "image/png": "[encoded data removed]",
      "text/plain": [
       "<Figure size 1200x600 with 1 Axes>"
      ]
     },
     "metadata": {},
     "output_type": "display_data"
    }
   ],
   "source": [
    "# Weekly rolling average of new cases\n",
    "plt.figure(figsize=(12, 6))\n",
    "for country in countries:\n",
    "    country_data = covid_clean[covid_clean['location'] == country]\n",
    "    plt.plot(country_data['date'], \n",
    "             country_data['new_cases'].rolling(7).mean(), \n",
    "             label=country, alpha=0.8)\n",
    "\n",
    "plt.title('7-Day Average of New Cases', fontsize=14)\n",
    "plt.xlabel('Date', fontsize=12)\n",
    "plt.ylabel('New Cases', fontsize=12)\n",
    "plt.legend()\n",
    "plt.show()"
   ]
  },
  {
   "cell_type": "code",
   "execution_count": 7,
   "id": "19f3580b-1114-4df0-a6da-eaec2cd069c1",
   "metadata": {},
   "outputs": [
    {
     "data": {
      "image/png": "[encoded data removed]",
      "text/plain": [
       "<Figure size 1200x600 with 1 Axes>"
      ]
     },
     "metadata": {},
     "output_type": "display_data"
    }
   ],
   "source": [
    "# Vaccination progress comparison\n",
    "vaccine_data = covid_clean.dropna(subset=['people_vaccinated'])\n",
    "\n",
    "plt.figure(figsize=(12, 6))\n",
    "sns.lineplot(data=vaccine_data, \n",
    "             x='date', \n",
    "             y='people_vaccinated', \n",
    "             hue='location',\n",
    "             linewidth=2.5)\n",
    "\n",
    "plt.title('Total Vaccinations Over Time', fontsize=14)\n",
    "plt.xlabel('Date', fontsize=12)\n",
    "plt.ylabel('People Vaccinated', fontsize=12)\n",
    "plt.legend(title='Country')\n",
    "plt.show()"
   ]
  },
  {
   "cell_type": "code",
   "execution_count": 9,
   "id": "d0d64a1e-3dbd-427a-953c-97573b302bfc",
   "metadata": {},
   "outputs": [
    {
     "data": {
      "application/vnd.plotly.v1+json": {
       "config": {
        "plotlyServerURL": "https://plot.ly"
       },
       "data": [
        {
         "coloraxis": "coloraxis",
         "customdata": [
          [
           235214,
           7998
          ],
          [
           13145380,
           259117
          ],
          [
           335047,
           3605
          ],
          [
           272139,
           6881
          ],
          [
           8359,
           34
          ],
          [
           48015,
           159
          ],
          [
           107481,
           1937
          ],
          [
           3904,
           12
          ],
          [
           9106,
           146
          ],
          [
           10101218,
           130663
          ],
          [
           452273,
           8777
          ],
          [
           44224,
           292
          ],
          [
           301499099,
           1637249
          ],
          [
           11861161,
           25236
          ],
          [
           6082444,
           22534
          ],
          [
           835757,
           10353
          ],
          [
           39127,
           849
          ],
          [
           696614,
           1536
          ],
          [
           2051348,
           29499
          ],
          [
           108582,
           593
          ],
          [
           994037,
           7118
          ],
          [
           4872829,
           34339
          ],
          [
           71414,
           688
          ],
          [
           28036,
           163
          ],
          [
           18860,
           165
          ],
          [
           62697,
           21
          ],
          [
           1212147,
           22387
          ],
          [
           11922,
           41
          ],
          [
           403666,
           16392
          ],
          [
           330696,
           2801
          ],
          [
           37511921,
           702116
          ],
          [
           7557,
           64
          ],
          [
           347723,
           179
          ],
          [
           1329988,
           38700
          ],
          [
           22139,
           400
          ],
          [
           54569,
           15
          ],
          [
           139319,
           3056
          ],
          [
           125246,
           1974
          ],
          [
           4819055,
           55282
          ],
          [
           64474,
           417
          ],
          [
           31472,
           37
          ],
          [
           15441,
           113
          ],
          [
           7702,
           194
          ],
          [
           5401126,
           62730
          ],
          [
           99373219,
           122304
          ],
          [
           6391876,
           142727
          ],
          [
           9109,
           160
          ],
          [
           25227,
           389
          ],
          [
           7345,
           2
          ],
          [
           1234701,
           9372
          ],
          [
           88434,
           835
          ],
          [
           1317144,
           18752
          ],
          [
           1113662,
           8530
          ],
          [
           45883,
           305
          ],
          [
           696410,
           1451
          ],
          [
           4761919,
           43509
          ],
          [
           101009,
           1474
          ],
          [
           3435679,
           9693
          ],
          [
           15690,
           189
          ],
          [
           16047,
           74
          ],
          [
           661103,
           4384
          ],
          [
           23460,
           138
          ],
          [
           1077445,
           36050
          ],
          [
           516023,
           24830
          ],
          [
           201920,
           4230
          ],
          [
           null,
           null
          ],
          [
           17130,
           183
          ],
          [
           10189,
           103
          ],
          [
           610471,
           2998
          ],
          [
           75356,
           1427
          ],
          [
           501193,
           7574
          ],
          [
           252916868,
           2102483
          ],
          [
           185822587,
           1262988
          ],
          [
           1923,
           0
          ],
          [
           34658,
           28
          ],
          [
           69047,
           885
          ],
          [
           1499712,
           11466
          ],
          [
           38997490,
           168091
          ],
          [
           98041,
           413
          ],
          [
           79387,
           650
          ],
          [
           49051,
           307
          ],
          [
           12627,
           372
          ],
          [
           1863615,
           17150
          ],
          [
           38437756,
           174979
          ],
          [
           172062,
           1462
          ],
          [
           20550,
           113
          ],
          [
           5673681,
           39258
          ],
          [
           11971,
           21
          ],
          [
           19693,
           238
          ],
          [
           203235,
           1021
          ],
          [
           52287,
           419
          ],
          [
           1250371,
           20203
          ],
          [
           35326,
           67
          ],
          [
           38572,
           468
          ],
          [
           9614,
           177
          ],
          [
           74443,
           1302
          ],
          [
           34456,
           860
          ],
          [
           429044049,
           2997359
          ],
          [
           472896,
           11114
          ],
          [
           null,
           null
          ],
          [
           2230800,
           49053
          ],
          [
           210374,
           186
          ],
          [
           45041748,
           533623
          ],
          [
           6829399,
           162059
          ],
          [
           7627863,
           146837
          ],
          [
           2465545,
           25375
          ],
          [
           1745088,
           9744
          ],
          [
           38008,
           116
          ],
          [
           4841558,
           12707
          ],
          [
           26781078,
           197307
          ],
          [
           157181,
           3611
          ],
          [
           33803572,
           74694
          ],
          [
           66391,
           161
          ],
          [
           1746997,
           14122
          ],
          [
           1504370,
           19072
          ],
          [
           344106,
           5689
          ],
          [
           5085,
           24
          ],
          [
           274279,
           3212
          ],
          [
           667290,
           2570
          ],
          [
           88953,
           1024
          ],
          [
           219060,
           671
          ],
          [
           977765,
           7475
          ],
          [
           1239904,
           10947
          ],
          [
           36138,
           709
          ],
          [
           7930,
           294
          ],
          [
           507269,
           6437
          ],
          [
           21588,
           89
          ],
          [
           1369355,
           9810
          ],
          [
           1944334,
           43529
          ],
          [
           91954400,
           1188026
          ],
          [
           393542,
           1000
          ],
          [
           null,
           null
          ],
          [
           68567,
           1428
          ],
          [
           89168,
           2686
          ],
          [
           5309410,
           37351
          ],
          [
           186694,
           316
          ],
          [
           33166,
           743
          ],
          [
           122796,
           922
          ],
          [
           16297,
           17
          ],
          [
           230354,
           1104
          ],
          [
           63872,
           997
          ],
          [
           328167,
           1073
          ],
          [
           42027,
           187
          ],
          [
           7619458,
           334551
          ],
          [
           31765,
           65
          ],
          [
           637520,
           12245
          ],
          [
           17181,
           67
          ],
          [
           1011489,
           2136
          ],
          [
           251280,
           2654
          ],
          [
           1403,
           8
          ],
          [
           1279115,
           16305
          ],
          [
           233843,
           2252
          ],
          [
           642885,
           19494
          ],
          [
           172533,
           4108
          ],
          [
           5393,
           1
          ],
          [
           1003450,
           12031
          ],
          [
           8640008,
           22986
          ],
          [
           80163,
           314
          ],
          [
           2639048,
           4284
          ],
          [
           16185,
           245
          ],
          [
           9518,
           315
          ],
          [
           267188,
           3155
          ],
          [
           1074,
           0
          ],
          [
           124492666,
           1671178
          ],
          [
           0,
           0
          ],
          [
           350924,
           9978
          ],
          [
           null,
           null
          ],
          [
           null,
           null
          ],
          [
           14912,
           41
          ],
          [
           1512647,
           5732
          ],
          [
           15003352,
           32918
          ],
          [
           399449,
           4628
          ],
          [
           1580631,
           30656
          ],
          [
           6372,
           10
          ],
          [
           703228,
           5708
          ],
          [
           1044821,
           8748
          ],
          [
           46864,
           670
          ],
          [
           735759,
           19880
          ],
          [
           4526977,
           220975
          ],
          [
           4140383,
           66864
          ],
          [
           4,
           0
          ],
          [
           6670799,
           120726
          ],
          [
           5664109,
           28809
          ],
          [
           1252713,
           5938
          ],
          [
           514524,
           690
          ],
          [
           494595,
           921
          ],
          [
           3541619,
           68825
          ],
          [
           24268728,
           403188
          ],
          [
           133264,
           1468
          ],
          [
           5507,
           5
          ],
          [
           2166,
           0
          ],
          [
           6607,
           46
          ],
          [
           30282,
           410
          ],
          [
           12324,
           46
          ],
          [
           3426,
           2
          ],
          [
           9674,
           124
          ],
          [
           17057,
           31
          ],
          [
           25292,
           126
          ],
          [
           6771,
           80
          ],
          [
           841469,
           9646
          ],
          [
           null,
           null
          ],
          [
           89485,
           1971
          ],
          [
           2583470,
           18057
          ],
          [
           51886,
           172
          ],
          [
           7979,
           125
          ],
          [
           3006155,
           2024
          ],
          [
           11051,
           92
          ],
          [
           1878002,
           21227
          ],
          [
           1356582,
           10083
          ],
          [
           25954,
           199
          ],
          [
           27334,
           1361
          ],
          [
           4072765,
           102595
          ],
          [
           68809418,
           1354187
          ],
          [
           34571873,
           35934
          ],
          [
           18823,
           147
          ],
          [
           13980340,
           121852
          ],
          [
           672798,
           16907
          ],
          [
           63993,
           5046
          ],
          [
           82501,
           1406
          ],
          [
           2755181,
           27399
          ],
          [
           4457868,
           14170
          ],
          [
           57423,
           3163
          ],
          [
           null,
           null
          ],
          [
           17786,
           125
          ],
          [
           43230,
           846
          ],
          [
           4799180,
           34715
          ],
          [
           39530,
           290
          ],
          [
           80,
           0
          ],
          [
           16976,
           12
          ],
          [
           191496,
           4390
          ],
          [
           1153361,
           29423
          ],
          [
           17004718,
           101419
          ],
          [
           0,
           0
          ],
          [
           6805,
           40
          ],
          [
           2943,
           1
          ],
          [
           172154,
           3632
          ],
          [
           5532777,
           109920
          ],
          [
           1067030,
           2349
          ],
          [
           24974629,
           232112
          ],
          [
           103436829,
           1193165
          ],
          [
           25389,
           132
          ],
          [
           251753518,
           2824452
          ],
          [
           1041346,
           7682
          ],
          [
           175081,
           1016
          ],
          [
           12019,
           14
          ],
          [
           26,
           0
          ],
          [
           552695,
           5856
          ],
          [
           11624000,
           43206
          ],
          [
           null,
           null
          ],
          [
           3760,
           9
          ],
          [
           null,
           null
          ],
          [
           775866783,
           7057132
          ],
          [
           11945,
           2159
          ],
          [
           349842,
           4077
          ],
          [
           266386,
           5740
          ]
         ],
         "geo": "geo",
         "hovertemplate": "<b>%{hovertext}</b><br><br>iso_code=%{location}<br>total_cases=%{customdata[0]}<br>total_deaths=%{customdata[1]}<br>total_cases_per_million=%{z}<extra></extra>",
         "hovertext": [
          "Afghanistan",
          "Africa",
          "Albania",
          "Algeria",
          "American Samoa",
          "Andorra",
          "Angola",
          "Anguilla",
          "Antigua and Barbuda",
          "Argentina",
          "Armenia",
          "Aruba",
          "Asia",
          "Australia",
          "Austria",
          "Azerbaijan",
          "Bahamas",
          "Bahrain",
          "Bangladesh",
          "Barbados",
          "Belarus",
          "Belgium",
          "Belize",
          "Benin",
          "Bermuda",
          "Bhutan",
          "Bolivia",
          "Bonaire Sint Eustatius and Saba",
          "Bosnia and Herzegovina",
          "Botswana",
          "Brazil",
          "British Virgin Islands",
          "Brunei",
          "Bulgaria",
          "Burkina Faso",
          "Burundi",
          "Cambodia",
          "Cameroon",
          "Canada",
          "Cape Verde",
          "Cayman Islands",
          "Central African Republic",
          "Chad",
          "Chile",
          "China",
          "Colombia",
          "Comoros",
          "Congo",
          "Cook Islands",
          "Costa Rica",
          "Cote d'Ivoire",
          "Croatia",
          "Cuba",
          "Curacao",
          "Cyprus",
          "Czechia",
          "Democratic Republic of Congo",
          "Denmark",
          "Djibouti",
          "Dominica",
          "Dominican Republic",
          "East Timor",
          "Ecuador",
          "Egypt",
          "El Salvador",
          "England",
          "Equatorial Guinea",
          "Eritrea",
          "Estonia",
          "Eswatini",
          "Ethiopia",
          "Europe",
          "European Union (27)",
          "Falkland Islands",
          "Faroe Islands",
          "Fiji",
          "Finland",
          "France",
          "French Guiana",
          "French Polynesia",
          "Gabon",
          "Gambia",
          "Georgia",
          "Germany",
          "Ghana",
          "Gibraltar",
          "Greece",
          "Greenland",
          "Grenada",
          "Guadeloupe",
          "Guam",
          "Guatemala",
          "Guernsey",
          "Guinea",
          "Guinea-Bissau",
          "Guyana",
          "Haiti",
          "High-income countries",
          "Honduras",
          "Hong Kong",
          "Hungary",
          "Iceland",
          "India",
          "Indonesia",
          "Iran",
          "Iraq",
          "Ireland",
          "Isle of Man",
          "Israel",
          "Italy",
          "Jamaica",
          "Japan",
          "Jersey",
          "Jordan",
          "Kazakhstan",
          "Kenya",
          "Kiribati",
          "Kosovo",
          "Kuwait",
          "Kyrgyzstan",
          "Laos",
          "Latvia",
          "Lebanon",
          "Lesotho",
          "Liberia",
          "Libya",
          "Liechtenstein",
          "Lithuania",
          "Low-income countries",
          "Lower-middle-income countries",
          "Luxembourg",
          "Macao",
          "Madagascar",
          "Malawi",
          "Malaysia",
          "Maldives",
          "Mali",
          "Malta",
          "Marshall Islands",
          "Martinique",
          "Mauritania",
          "Mauritius",
          "Mayotte",
          "Mexico",
          "Micronesia (country)",
          "Moldova",
          "Monaco",
          "Mongolia",
          "Montenegro",
          "Montserrat",
          "Morocco",
          "Mozambique",
          "Myanmar",
          "Namibia",
          "Nauru",
          "Nepal",
          "Netherlands",
          "New Caledonia",
          "New Zealand",
          "Nicaragua",
          "Niger",
          "Nigeria",
          "Niue",
          "North America",
          "North Korea",
          "North Macedonia",
          "Northern Cyprus",
          "Northern Ireland",
          "Northern Mariana Islands",
          "Norway",
          "Oceania",
          "Oman",
          "Pakistan",
          "Palau",
          "Palestine",
          "Panama",
          "Papua New Guinea",
          "Paraguay",
          "Peru",
          "Philippines",
          "Pitcairn",
          "Poland",
          "Portugal",
          "Puerto Rico",
          "Qatar",
          "Reunion",
          "Romania",
          "Russia",
          "Rwanda",
          "Saint Barthelemy",
          "Saint Helena",
          "Saint Kitts and Nevis",
          "Saint Lucia",
          "Saint Martin (French part)",
          "Saint Pierre and Miquelon",
          "Saint Vincent and the Grenadines",
          "Samoa",
          "San Marino",
          "Sao Tome and Principe",
          "Saudi Arabia",
          "Scotland",
          "Senegal",
          "Serbia",
          "Seychelles",
          "Sierra Leone",
          "Singapore",
          "Sint Maarten (Dutch part)",
          "Slovakia",
          "Slovenia",
          "Solomon Islands",
          "Somalia",
          "South Africa",
          "South America",
          "South Korea",
          "South Sudan",
          "Spain",
          "Sri Lanka",
          "Sudan",
          "Suriname",
          "Sweden",
          "Switzerland",
          "Syria",
          "Taiwan",
          "Tajikistan",
          "Tanzania",
          "Thailand",
          "Togo",
          "Tokelau",
          "Tonga",
          "Trinidad and Tobago",
          "Tunisia",
          "Turkey",
          "Turkmenistan",
          "Turks and Caicos Islands",
          "Tuvalu",
          "Uganda",
          "Ukraine",
          "United Arab Emirates",
          "United Kingdom",
          "United States",
          "United States Virgin Islands",
          "Upper-middle-income countries",
          "Uruguay",
          "Uzbekistan",
          "Vanuatu",
          "Vatican",
          "Venezuela",
          "Vietnam",
          "Wales",
          "Wallis and Futuna",
          "Western Sahara",
          "World",
          "Yemen",
          "Zambia",
          "Zimbabwe"
         ],
         "locations": [
          "AFG",
          "OWID_AFR",
          "ALB",
          "DZA",
          "ASM",
          "AND",
          "AGO",
          "AIA",
          "ATG",
          "ARG",
          "ARM",
          "ABW",
          "OWID_ASI",
          "AUS",
          "AUT",
          "AZE",
          "BHS",
          "BHR",
          "BGD",
          "BRB",
          "BLR",
          "BEL",
          "BLZ",
          "BEN",
          "BMU",
          "BTN",
          "BOL",
          "BES",
          "BIH",
          "BWA",
          "BRA",
          "VGB",
          "BRN",
          "BGR",
          "BFA",
          "BDI",
          "KHM",
          "CMR",
          "CAN",
          "CPV",
          "CYM",
          "CAF",
          "TCD",
          "CHL",
          "CHN",
          "COL",
          "COM",
          "COG",
          "COK",
          "CRI",
          "CIV",
          "HRV",
          "CUB",
          "CUW",
          "CYP",
          "CZE",
          "COD",
          "DNK",
          "DJI",
          "DMA",
          "DOM",
          "TLS",
          "ECU",
          "EGY",
          "SLV",
          "OWID_ENG",
          "GNQ",
          "ERI",
          "EST",
          "SWZ",
          "ETH",
          "OWID_EUR",
          "OWID_EUN",
          "FLK",
          "FRO",
          "FJI",
          "FIN",
          "FRA",
          "GUF",
          "PYF",
          "GAB",
          "GMB",
          "GEO",
          "DEU",
          "GHA",
          "GIB",
          "GRC",
          "GRL",
          "GRD",
          "GLP",
          "GUM",
          "GTM",
          "GGY",
          "GIN",
          "GNB",
          "GUY",
          "HTI",
          "OWID_HIC",
          "HND",
          "HKG",
          "HUN",
          "ISL",
          "IND",
          "IDN",
          "IRN",
          "IRQ",
          "IRL",
          "IMN",
          "ISR",
          "ITA",
          "JAM",
          "JPN",
          "JEY",
          "JOR",
          "KAZ",
          "KEN",
          "KIR",
          "OWID_KOS",
          "KWT",
          "KGZ",
          "LAO",
          "LVA",
          "LBN",
          "LSO",
          "LBR",
          "LBY",
          "LIE",
          "LTU",
          "OWID_LIC",
          "OWID_LMC",
          "LUX",
          "MAC",
          "MDG",
          "MWI",
          "MYS",
          "MDV",
          "MLI",
          "MLT",
          "MHL",
          "MTQ",
          "MRT",
          "MUS",
          "MYT",
          "MEX",
          "FSM",
          "MDA",
          "MCO",
          "MNG",
          "MNE",
          "MSR",
          "MAR",
          "MOZ",
          "MMR",
          "NAM",
          "NRU",
          "NPL",
          "NLD",
          "NCL",
          "NZL",
          "NIC",
          "NER",
          "NGA",
          "NIU",
          "OWID_NAM",
          "PRK",
          "MKD",
          "OWID_CYN",
          "OWID_NIR",
          "MNP",
          "NOR",
          "OWID_OCE",
          "OMN",
          "PAK",
          "PLW",
          "PSE",
          "PAN",
          "PNG",
          "PRY",
          "PER",
          "PHL",
          "PCN",
          "POL",
          "PRT",
          "PRI",
          "QAT",
          "REU",
          "ROU",
          "RUS",
          "RWA",
          "BLM",
          "SHN",
          "KNA",
          "LCA",
          "MAF",
          "SPM",
          "VCT",
          "WSM",
          "SMR",
          "STP",
          "SAU",
          "OWID_SCT",
          "SEN",
          "SRB",
          "SYC",
          "SLE",
          "SGP",
          "SXM",
          "SVK",
          "SVN",
          "SLB",
          "SOM",
          "ZAF",
          "OWID_SAM",
          "KOR",
          "SSD",
          "ESP",
          "LKA",
          "SDN",
          "SUR",
          "SWE",
          "CHE",
          "SYR",
          "TWN",
          "TJK",
          "TZA",
          "THA",
          "TGO",
          "TKL",
          "TON",
          "TTO",
          "TUN",
          "TUR",
          "TKM",
          "TCA",
          "TUV",
          "UGA",
          "UKR",
          "ARE",
          "GBR",
          "USA",
          "VIR",
          "OWID_UMC",
          "URY",
          "UZB",
          "VUT",
          "VAT",
          "VEN",
          "VNM",
          "OWID_WLS",
          "WLF",
          "ESH",
          "OWID_WRL",
          "YEM",
          "ZMB",
          "ZWE"
         ],
         "name": "",
         "type": "choropleth",
         "z": [
          5796.468,
          9088.877,
          118491.02,
          5984.05,
          172831.6,
          602280.44,
          3016.162,
          274890.88,
          98071.1,
          222455.06,
          156991.11,
          410271.62,
          63948.2,
          452699,
          671004.9,
          81178.445,
          98421.81,
          454276.25,
          12110.572,
          384600.7,
          108362.68,
          418562.72,
          177319.92,
          2037.573,
          291175.2,
          80286.07,
          100366.93,
          416067.56,
          125956.49,
          135536.98,
          178367.94,
          197084.3,
          763598.6,
          194845.4,
          983.56,
          4096.433,
          8099.134,
          4532.516,
          124134.43,
          124048.1,
          439497.84,
          3028.812,
          417.332,
          276229.6,
          69726.805,
          123543.3,
          10919.549,
          4180.042,
          498067.4,
          242966.97,
          2909.492,
          337121.47,
          100694.4,
          247546.55,
          523075.38,
          446155.97,
          986.445,
          582032.56,
          13798.259,
          240044.88,
          58865.52,
          17132.854,
          60449.453,
          4582.054,
          32151.248,
          null,
          9497.935,
          2988.457,
          452169.94,
          61821.89,
          3997.255,
          337990.34,
          413754.22,
          547083.94,
          641351.6,
          75097.78,
          269281.97,
          606706,
          328644.84,
          283131.66,
          20179.352,
          4789.353,
          491099.22,
          457123.1,
          5190.54,
          546092.3,
          544892.3,
          213714.42,
          168419.88,
          528290.6,
          316520.7,
          70057.125,
          554150.6,
          2744.335,
          4566.056,
          90603.38,
          2995.235,
          351468.5,
          45193.176,
          null,
          230352.08,
          553080.2,
          31598.86,
          24493.01,
          85204.44,
          55945.402,
          341503.62,
          451701.84,
          531855.56,
          449202.94,
          55361.973,
          270433.8,
          641502.3,
          155202.16,
          75088.555,
          6342.68,
          38971.19,
          159654.83,
          145394.48,
          12788.335,
          28979.996,
          519795.25,
          215842.16,
          15807.624,
          1475.817,
          70221.87,
          548810.25,
          486117.47,
          2712.27,
          28590.73,
          602376.2,
          null,
          2252.732,
          4335.124,
          153028.81,
          356207.4,
          1437.46,
          232482.77,
          406469.78,
          659169.44,
          13100.216,
          257157.16,
          137667.97,
          59243.242,
          283302.4,
          209711.42,
          441115.3,
          298725.5,
          408818.03,
          313449.5,
          34265.92,
          7160.744,
          11959.141,
          59706.86,
          456221.97,
          33768.65,
          482562.8,
          279186.16,
          514260.6,
          2404.667,
          376.028,
          1197.342,
          582429.5,
          205992.19,
          0,
          190695.11,
          null,
          null,
          323463.7,
          277204.28,
          333039.8,
          84446.055,
          6485.952,
          358299.6,
          132552.62,
          237417.66,
          4593.08,
          108832.664,
          135232.81,
          36330.51,
          88888.89,
          173783.28,
          543733.1,
          386523.97,
          177884.27,
          567494.2,
          184779.06,
          166703.84,
          9762.196,
          503014.25,
          403427.1,
          141383.66,
          169368.1,
          426465.5,
          594791.7,
          94785.52,
          79235.75,
          741418.25,
          29918.74,
          26152.596,
          null,
          5069.656,
          380413.34,
          413328.88,
          964.019,
          532073.56,
          262101.84,
          343127.25,
          641340.2,
          33228.562,
          1535.455,
          65291.246,
          159838.72,
          667636.06,
          1707.894,
          292302.16,
          29463.502,
          1295.842,
          132388.6,
          262715.12,
          507026.47,
          2556.432,
          null,
          1746.769,
          668.039,
          66901.21,
          4348.858,
          34602.074,
          161594.62,
          128012.02,
          95167.016,
          195325.25,
          0,
          148357.28,
          293947.25,
          3638.641,
          134785.47,
          104180.94,
          366308,
          302859.5,
          293443.22,
          88856.516,
          307099,
          5011.054,
          38391.758,
          50682.26,
          19590.072,
          116612.4,
          null,
          326928.1,
          null,
          97113.85,
          312.509,
          17359.357,
          16577.57
         ]
        }
       ],
       "layout": {
        "autosize": true,
        "coloraxis": {
         "colorbar": {
          "title": {
           "text": "total_cases_per_million"
          }
         },
         "colorscale": [
          [
           0,
           "#440154"
          ],
          [
           0.1111111111111111,
           "#482878"
          ],
          [
           0.2222222222222222,
           "#3e4989"
          ],
          [
           0.3333333333333333,
           "#31688e"
          ],
          [
           0.4444444444444444,
           "#26828e"
          ],
          [
           0.5555555555555556,
           "#1f9e89"
          ],
          [
           0.6666666666666666,
           "#35b779"
          ],
          [
           0.7777777777777778,
           "#6ece58"
          ],
          [
           0.8888888888888888,
           "#b5de2b"
          ],
          [
           1,
           "#fde725"
          ]
         ]
        },
        "geo": {
         "center": {
          "lat": 33.75587411020954,
          "lon": -68.02015926836657
         },
         "domain": {
          "x": [
           0,
           1
          ],
          "y": [
           0,
           1
          ]
         },
         "projection": {
          "rotation": {
           "lon": -68.02015926836657
          },
          "scale": 0.6597539553864471
         }
        },
        "legend": {
         "tracegroupgap": 0
        },
        "template": {
         "data": {
          "bar": [
           {
            "error_x": {
             "color": "#2a3f5f"
            },
            "error_y": {
             "color": "#2a3f5f"
            },
            "marker": {
             "line": {
              "color": "#E5ECF6",
              "width": 0.5
             },
             "pattern": {
              "fillmode": "overlay",
              "size": 10,
              "solidity": 0.2
             }
            },
            "type": "bar"
           }
          ],
          "barpolar": [
           {
            "marker": {
             "line": {
              "color": "#E5ECF6",
              "width": 0.5
             },
             "pattern": {
              "fillmode": "overlay",
              "size": 10,
              "solidity": 0.2
             }
            },
            "type": "barpolar"
           }
          ],
          "carpet": [
           {
            "aaxis": {
             "endlinecolor": "#2a3f5f",
             "gridcolor": "white",
             "linecolor": "white",
             "minorgridcolor": "white",
             "startlinecolor": "#2a3f5f"
            },
            "baxis": {
             "endlinecolor": "#2a3f5f",
             "gridcolor": "white",
             "linecolor": "white",
             "minorgridcolor": "white",
             "startlinecolor": "#2a3f5f"
            },
            "type": "carpet"
           }
          ],
          "choropleth": [
           {
            "colorbar": {
             "outlinewidth": 0,
             "ticks": ""
            },
            "type": "choropleth"
           }
          ],
          "contour": [
           {
            "colorbar": {
             "outlinewidth": 0,
             "ticks": ""
            },
            "colorscale": [
             [
              0,
              "#0d0887"
             ],
             [
              0.1111111111111111,
              "#46039f"
             ],
             [
              0.2222222222222222,
              "#7201a8"
             ],
             [
              0.3333333333333333,
              "#9c179e"
             ],
             [
              0.4444444444444444,
              "#bd3786"
             ],
             [
              0.5555555555555556,
              "#d8576b"
             ],
             [
              0.6666666666666666,
              "#ed7953"
             ],
             [
              0.7777777777777778,
              "#fb9f3a"
             ],
             [
              0.8888888888888888,
              "#fdca26"
             ],
             [
              1,
              "#f0f921"
             ]
            ],
            "type": "contour"
           }
          ],
          "contourcarpet": [
           {
            "colorbar": {
             "outlinewidth": 0,
             "ticks": ""
            },
            "type": "contourcarpet"
           }
          ],
          "heatmap": [
           {
            "colorbar": {
             "outlinewidth": 0,
             "ticks": ""
            },
            "colorscale": [
             [
              0,
              "#0d0887"
             ],
             [
              0.1111111111111111,
              "#46039f"
             ],
             [
              0.2222222222222222,
              "#7201a8"
             ],
             [
              0.3333333333333333,
              "#9c179e"
             ],
             [
              0.4444444444444444,
              "#bd3786"
             ],
             [
              0.5555555555555556,
              "#d8576b"
             ],
             [
              0.6666666666666666,
              "#ed7953"
             ],
             [
              0.7777777777777778,
              "#fb9f3a"
             ],
             [
              0.8888888888888888,
              "#fdca26"
             ],
             [
              1,
              "#f0f921"
             ]
            ],
            "type": "heatmap"
           }
          ],
          "heatmapgl": [
           {
            "colorbar": {
             "outlinewidth": 0,
             "ticks": ""
            },
            "colorscale": [
             [
              0,
              "#0d0887"
             ],
             [
              0.1111111111111111,
              "#46039f"
             ],
             [
              0.2222222222222222,
              "#7201a8"
             ],
             [
              0.3333333333333333,
              "#9c179e"
             ],
             [
              0.4444444444444444,
              "#bd3786"
             ],
             [
              0.5555555555555556,
              "#d8576b"
             ],
             [
              0.6666666666666666,
              "#ed7953"
             ],
             [
              0.7777777777777778,
              "#fb9f3a"
             ],
             [
              0.8888888888888888,
              "#fdca26"
             ],
             [
              1,
              "#f0f921"
             ]
            ],
            "type": "heatmapgl"
           }
          ],
          "histogram": [
           {
            "marker": {
             "pattern": {
              "fillmode": "overlay",
              "size": 10,
              "solidity": 0.2
             }
            },
            "type": "histogram"
           }
          ],
          "histogram2d": [
           {
            "colorbar": {
             "outlinewidth": 0,
             "ticks": ""
            },
            "colorscale": [
             [
              0,
              "#0d0887"
             ],
             [
              0.1111111111111111,
              "#46039f"
             ],
             [
              0.2222222222222222,
              "#7201a8"
             ],
             [
              0.3333333333333333,
              "#9c179e"
             ],
             [
              0.4444444444444444,
              "#bd3786"
             ],
             [
              0.5555555555555556,
              "#d8576b"
             ],
             [
              0.6666666666666666,
              "#ed7953"
             ],
             [
              0.7777777777777778,
              "#fb9f3a"
             ],
             [
              0.8888888888888888,
              "#fdca26"
             ],
             [
              1,
              "#f0f921"
             ]
            ],
            "type": "histogram2d"
           }
          ],
          "histogram2dcontour": [
           {
            "colorbar": {
             "outlinewidth": 0,
             "ticks": ""
            },
            "colorscale": [
             [
              0,
              "#0d0887"
             ],
             [
              0.1111111111111111,
              "#46039f"
             ],
             [
              0.2222222222222222,
              "#7201a8"
             ],
             [
              0.3333333333333333,
              "#9c179e"
             ],
             [
              0.4444444444444444,
              "#bd3786"
             ],
             [
              0.5555555555555556,
              "#d8576b"
             ],
             [
              0.6666666666666666,
              "#ed7953"
             ],
             [
              0.7777777777777778,
              "#fb9f3a"
             ],
             [
              0.8888888888888888,
              "#fdca26"
             ],
             [
              1,
              "#f0f921"
             ]
            ],
            "type": "histogram2dcontour"
           }
          ],
          "mesh3d": [
           {
            "colorbar": {
             "outlinewidth": 0,
             "ticks": ""
            },
            "type": "mesh3d"
           }
          ],
          "parcoords": [
           {
            "line": {
             "colorbar": {
              "outlinewidth": 0,
              "ticks": ""
             }
            },
            "type": "parcoords"
           }
          ],
          "pie": [
           {
            "automargin": true,
            "type": "pie"
           }
          ],
          "scatter": [
           {
            "fillpattern": {
             "fillmode": "overlay",
             "size": 10,
             "solidity": 0.2
            },
            "type": "scatter"
           }
          ],
          "scatter3d": [
           {
            "line": {
             "colorbar": {
              "outlinewidth": 0,
              "ticks": ""
             }
            },
            "marker": {
             "colorbar": {
              "outlinewidth": 0,
              "ticks": ""
             }
            },
            "type": "scatter3d"
           }
          ],
          "scattercarpet": [
           {
            "marker": {
             "colorbar": {
              "outlinewidth": 0,
              "ticks": ""
             }
            },
            "type": "scattercarpet"
           }
          ],
          "scattergeo": [
           {
            "marker": {
             "colorbar": {
              "outlinewidth": 0,
              "ticks": ""
             }
            },
            "type": "scattergeo"
           }
          ],
          "scattergl": [
           {
            "marker": {
             "colorbar": {
              "outlinewidth": 0,
              "ticks": ""
             }
            },
            "type": "scattergl"
           }
          ],
          "scattermapbox": [
           {
            "marker": {
             "colorbar": {
              "outlinewidth": 0,
              "ticks": ""
             }
            },
            "type": "scattermapbox"
           }
          ],
          "scatterpolar": [
           {
            "marker": {
             "colorbar": {
              "outlinewidth": 0,
              "ticks": ""
             }
            },
            "type": "scatterpolar"
           }
          ],
          "scatterpolargl": [
           {
            "marker": {
             "colorbar": {
              "outlinewidth": 0,
              "ticks": ""
             }
            },
            "type": "scatterpolargl"
           }
          ],
          "scatterternary": [
           {
            "marker": {
             "colorbar": {
              "outlinewidth": 0,
              "ticks": ""
             }
            },
            "type": "scatterternary"
           }
          ],
          "surface": [
           {
            "colorbar": {
             "outlinewidth": 0,
             "ticks": ""
            },
            "colorscale": [
             [
              0,
              "#0d0887"
             ],
             [
              0.1111111111111111,
              "#46039f"
             ],
             [
              0.2222222222222222,
              "#7201a8"
             ],
             [
              0.3333333333333333,
              "#9c179e"
             ],
             [
              0.4444444444444444,
              "#bd3786"
             ],
             [
              0.5555555555555556,
              "#d8576b"
             ],
             [
              0.6666666666666666,
              "#ed7953"
             ],
             [
              0.7777777777777778,
              "#fb9f3a"
             ],
             [
              0.8888888888888888,
              "#fdca26"
             ],
             [
              1,
              "#f0f921"
             ]
            ],
            "type": "surface"
           }
          ],
          "table": [
           {
            "cells": {
             "fill": {
              "color": "#EBF0F8"
             },
             "line": {
              "color": "white"
             }
            },
            "header": {
             "fill": {
              "color": "#C8D4E3"
             },
             "line": {
              "color": "white"
             }
            },
            "type": "table"
           }
          ]
         },
         "layout": {
          "annotationdefaults": {
           "arrowcolor": "#2a3f5f",
           "arrowhead": 0,
           "arrowwidth": 1
          },
          "autotypenumbers": "strict",
          "coloraxis": {
           "colorbar": {
            "outlinewidth": 0,
            "ticks": ""
           }
          },
          "colorscale": {
           "diverging": [
            [
             0,
             "#8e0152"
            ],
            [
             0.1,
             "#c51b7d"
            ],
            [
             0.2,
             "#de77ae"
            ],
            [
             0.3,
             "#f1b6da"
            ],
            [
             0.4,
             "#fde0ef"
            ],
            [
             0.5,
             "#f7f7f7"
            ],
            [
             0.6,
             "#e6f5d0"
            ],
            [
             0.7,
             "#b8e186"
            ],
            [
             0.8,
             "#7fbc41"
            ],
            [
             0.9,
             "#4d9221"
            ],
            [
             1,
             "#276419"
            ]
           ],
           "sequential": [
            [
             0,
             "#0d0887"
            ],
            [
             0.1111111111111111,
             "#46039f"
            ],
            [
             0.2222222222222222,
             "#7201a8"
            ],
            [
             0.3333333333333333,
             "#9c179e"
            ],
            [
             0.4444444444444444,
             "#bd3786"
            ],
            [
             0.5555555555555556,
             "#d8576b"
            ],
            [
             0.6666666666666666,
             "#ed7953"
            ],
            [
             0.7777777777777778,
             "#fb9f3a"
            ],
            [
             0.8888888888888888,
             "#fdca26"
            ],
            [
             1,
             "#f0f921"
            ]
           ],
           "sequentialminus": [
            [
             0,
             "#0d0887"
            ],
            [
             0.1111111111111111,
             "#46039f"
            ],
            [
             0.2222222222222222,
             "#7201a8"
            ],
            [
             0.3333333333333333,
             "#9c179e"
            ],
            [
             0.4444444444444444,
             "#bd3786"
            ],
            [
             0.5555555555555556,
             "#d8576b"
            ],
            [
             0.6666666666666666,
             "#ed7953"
            ],
            [
             0.7777777777777778,
             "#fb9f3a"
            ],
            [
             0.8888888888888888,
             "#fdca26"
            ],
            [
             1,
             "#f0f921"
            ]
           ]
          },
          "colorway": [
           "#636efa",
           "#EF553B",
           "#00cc96",
           "#ab63fa",
           "#FFA15A",
           "#19d3f3",
           "#FF6692",
           "#B6E880",
           "#FF97FF",
           "#FECB52"
          ],
          "font": {
           "color": "#2a3f5f"
          },
          "geo": {
           "bgcolor": "white",
           "lakecolor": "white",
           "landcolor": "#E5ECF6",
           "showlakes": true,
           "showland": true,
           "subunitcolor": "white"
          },
          "hoverlabel": {
           "align": "left"
          },
          "hovermode": "closest",
          "mapbox": {
           "style": "light"
          },
          "paper_bgcolor": "white",
          "plot_bgcolor": "#E5ECF6",
          "polar": {
           "angularaxis": {
            "gridcolor": "white",
            "linecolor": "white",
            "ticks": ""
           },
           "bgcolor": "#E5ECF6",
           "radialaxis": {
            "gridcolor": "white",
            "linecolor": "white",
            "ticks": ""
           }
          },
          "scene": {
           "xaxis": {
            "backgroundcolor": "#E5ECF6",
            "gridcolor": "white",
            "gridwidth": 2,
            "linecolor": "white",
            "showbackground": true,
            "ticks": "",
            "zerolinecolor": "white"
           },
           "yaxis": {
            "backgroundcolor": "#E5ECF6",
            "gridcolor": "white",
            "gridwidth": 2,
            "linecolor": "white",
            "showbackground": true,
            "ticks": "",
            "zerolinecolor": "white"
           },
           "zaxis": {
            "backgroundcolor": "#E5ECF6",
            "gridcolor": "white",
            "gridwidth": 2,
            "linecolor": "white",
            "showbackground": true,
            "ticks": "",
            "zerolinecolor": "white"
           }
          },
          "shapedefaults": {
           "line": {
            "color": "#2a3f5f"
           }
          },
          "ternary": {
           "aaxis": {
            "gridcolor": "white",
            "linecolor": "white",
            "ticks": ""
           },
           "baxis": {
            "gridcolor": "white",
            "linecolor": "white",
            "ticks": ""
           },
           "bgcolor": "#E5ECF6",
           "caxis": {
            "gridcolor": "white",
            "linecolor": "white",
            "ticks": ""
           }
          },
          "title": {
           "x": 0.05
          },
          "xaxis": {
           "automargin": true,
           "gridcolor": "white",
           "linecolor": "white",
           "ticks": "",
           "title": {
            "standoff": 15
           },
           "zerolinecolor": "white",
           "zerolinewidth": 2
          },
          "yaxis": {
           "automargin": true,
           "gridcolor": "white",
           "linecolor": "white",
           "ticks": "",
           "title": {
            "standoff": 15
           },
           "zerolinecolor": "white",
           "zerolinewidth": 2
          }
         }
        },
        "title": {
         "text": "Global COVID-19 Cases per Million People"
        }
       }
      },
      "image/png": "[encoded data removed]",
      "text/html": [
       "<div>                            <div id=\"cafa5990-294e-45b1-b1d2-3847b9c2d692\" class=\"plotly-graph-div\" style=\"height:525px; width:100%;\"></div>            <script type=\"text/javascript\">                require([\"plotly\"], function(Plotly) {                    window.PLOTLYENV=window.PLOTLYENV || {};                                    if (document.getElementById(\"cafa5990-294e-45b1-b1d2-3847b9c2d692\")) {                    Plotly.newPlot(                        \"cafa5990-294e-45b1-b1d2-3847b9c2d692\",                        [{\"coloraxis\":\"coloraxis\",\"customdata\":[[235214.0,7998.0],[13145380.0,259117.0],[335047.0,3605.0],[272139.0,6881.0],[8359.0,34.0],[48015.0,159.0],[107481.0,1937.0],[3904.0,12.0],[9106.0,146.0],[10101218.0,130663.0],[452273.0,8777.0],[44224.0,292.0],[301499099.0,1637249.0],[11861161.0,25236.0],[6082444.0,22534.0],[835757.0,10353.0],[39127.0,849.0],[696614.0,1536.0],[2051348.0,29499.0],[108582.0,593.0],[994037.0,7118.0],[4872829.0,34339.0],[71414.0,688.0],[28036.0,163.0],[18860.0,165.0],[62697.0,21.0],[1212147.0,22387.0],[11922.0,41.0],[403666.0,16392.0],[330696.0,2801.0],[37511921.0,702116.0],[7557.0,64.0],[347723.0,179.0],[1329988.0,38700.0],[22139.0,400.0],[54569.0,15.0],[139319.0,3056.0],[125246.0,1974.0],[4819055.0,55282.0],[64474.0,417.0],[31472.0,37.0],[15441.0,113.0],[7702.0,194.0],[5401126.0,62730.0],[99373219.0,122304.0],[6391876.0,142727.0],[9109.0,160.0],[25227.0,389.0],[7345.0,2.0],[1234701.0,9372.0],[88434.0,835.0],[1317144.0,18752.0],[1113662.0,8530.0],[45883.0,305.0],[696410.0,1451.0],[4761919.0,43509.0],[101009.0,1474.0],[3435679.0,9693.0],[15690.0,189.0],[16047.0,74.0],[661103.0,4384.0],[23460.0,138.0],[1077445.0,36050.0],[516023.0,24830.0],[201920.0,4230.0],[null,null],[17130.0,183.0],[10189.0,103.0],[610471.0,2998.0],[75356.0,1427.0],[501193.0,7574.0],[252916868.0,2102483.0],[185822587.0,1262988.0],[1923.0,0.0],[34658.0,28.0],[69047.0,885.0],[1499712.0,11466.0],[38997490.0,168091.0],[98041.0,413.0],[79387.0,650.0],[49051.0,307.0],[12627.0,372.0],[1863615.0,17150.0],[38437756.0,174979.0],[172062.0,1462.0],[20550.0,113.0],[5673681.0,39258.0],[11971.0,21.0],[19693.0,238.0],[203235.0,1021.0],[52287.0,419.0],[1250371.0,20203.0],[35326.0,67.0],[38572.0,468.0],[9614.0,177.0],[74443.0,1302.0],[34456.0,860.0],[429044049.0,2997359.0],[472896.0,11114.0],[null,null],[2230800.0,49053.0],[210374.0,186.0],[45041748.0,533623.0],[6829399.0,162059.0],[7627863.0,146837.0],[2465545.0,25375.0],[1745088.0,9744.0],[38008.0,116.0],[4841558.0,12707.0],[26781078.0,197307.0],[157181.0,3611.0],[33803572.0,74694.0],[66391.0,161.0],[1746997.0,14122.0],[1504370.0,19072.0],[344106.0,5689.0],[5085.0,24.0],[274279.0,3212.0],[667290.0,2570.0],[88953.0,1024.0],[219060.0,671.0],[977765.0,7475.0],[1239904.0,10947.0],[36138.0,709.0],[7930.0,294.0],[507269.0,6437.0],[21588.0,89.0],[1369355.0,9810.0],[1944334.0,43529.0],[91954400.0,1188026.0],[393542.0,1000.0],[null,null],[68567.0,1428.0],[89168.0,2686.0],[5309410.0,37351.0],[186694.0,316.0],[33166.0,743.0],[122796.0,922.0],[16297.0,17.0],[230354.0,1104.0],[63872.0,997.0],[328167.0,1073.0],[42027.0,187.0],[7619458.0,334551.0],[31765.0,65.0],[637520.0,12245.0],[17181.0,67.0],[1011489.0,2136.0],[251280.0,2654.0],[1403.0,8.0],[1279115.0,16305.0],[233843.0,2252.0],[642885.0,19494.0],[172533.0,4108.0],[5393.0,1.0],[1003450.0,12031.0],[8640008.0,22986.0],[80163.0,314.0],[2639048.0,4284.0],[16185.0,245.0],[9518.0,315.0],[267188.0,3155.0],[1074.0,0.0],[124492666.0,1671178.0],[0.0,0.0],[350924.0,9978.0],[null,null],[null,null],[14912.0,41.0],[1512647.0,5732.0],[15003352.0,32918.0],[399449.0,4628.0],[1580631.0,30656.0],[6372.0,10.0],[703228.0,5708.0],[1044821.0,8748.0],[46864.0,670.0],[735759.0,19880.0],[4526977.0,220975.0],[4140383.0,66864.0],[4.0,0.0],[6670799.0,120726.0],[5664109.0,28809.0],[1252713.0,5938.0],[514524.0,690.0],[494595.0,921.0],[3541619.0,68825.0],[24268728.0,403188.0],[133264.0,1468.0],[5507.0,5.0],[2166.0,0.0],[6607.0,46.0],[30282.0,410.0],[12324.0,46.0],[3426.0,2.0],[9674.0,124.0],[17057.0,31.0],[25292.0,126.0],[6771.0,80.0],[841469.0,9646.0],[null,null],[89485.0,1971.0],[2583470.0,18057.0],[51886.0,172.0],[7979.0,125.0],[3006155.0,2024.0],[11051.0,92.0],[1878002.0,21227.0],[1356582.0,10083.0],[25954.0,199.0],[27334.0,1361.0],[4072765.0,102595.0],[68809418.0,1354187.0],[34571873.0,35934.0],[18823.0,147.0],[13980340.0,121852.0],[672798.0,16907.0],[63993.0,5046.0],[82501.0,1406.0],[2755181.0,27399.0],[4457868.0,14170.0],[57423.0,3163.0],[null,null],[17786.0,125.0],[43230.0,846.0],[4799180.0,34715.0],[39530.0,290.0],[80.0,0.0],[16976.0,12.0],[191496.0,4390.0],[1153361.0,29423.0],[17004718.0,101419.0],[0.0,0.0],[6805.0,40.0],[2943.0,1.0],[172154.0,3632.0],[5532777.0,109920.0],[1067030.0,2349.0],[24974629.0,232112.0],[103436829.0,1193165.0],[25389.0,132.0],[251753518.0,2824452.0],[1041346.0,7682.0],[175081.0,1016.0],[12019.0,14.0],[26.0,0.0],[552695.0,5856.0],[11624000.0,43206.0],[null,null],[3760.0,9.0],[null,null],[775866783.0,7057132.0],[11945.0,2159.0],[349842.0,4077.0],[266386.0,5740.0]],\"geo\":\"geo\",\"hovertemplate\":\"<b>%{hovertext}</b><br><br>iso_code=%{location}<br>total_cases=%{customdata[0]}<br>total_deaths=%{customdata[1]}<br>total_cases_per_million=%{z}<extra></extra>\",\"hovertext\":[\"Afghanistan\",\"Africa\",\"Albania\",\"Algeria\",\"American Samoa\",\"Andorra\",\"Angola\",\"Anguilla\",\"Antigua and Barbuda\",\"Argentina\",\"Armenia\",\"Aruba\",\"Asia\",\"Australia\",\"Austria\",\"Azerbaijan\",\"Bahamas\",\"Bahrain\",\"Bangladesh\",\"Barbados\",\"Belarus\",\"Belgium\",\"Belize\",\"Benin\",\"Bermuda\",\"Bhutan\",\"Bolivia\",\"Bonaire Sint Eustatius and Saba\",\"Bosnia and Herzegovina\",\"Botswana\",\"Brazil\",\"British Virgin Islands\",\"Brunei\",\"Bulgaria\",\"Burkina Faso\",\"Burundi\",\"Cambodia\",\"Cameroon\",\"Canada\",\"Cape Verde\",\"Cayman Islands\",\"Central African Republic\",\"Chad\",\"Chile\",\"China\",\"Colombia\",\"Comoros\",\"Congo\",\"Cook Islands\",\"Costa Rica\",\"Cote d'Ivoire\",\"Croatia\",\"Cuba\",\"Curacao\",\"Cyprus\",\"Czechia\",\"Democratic Republic of Congo\",\"Denmark\",\"Djibouti\",\"Dominica\",\"Dominican Republic\",\"East Timor\",\"Ecuador\",\"Egypt\",\"El Salvador\",\"England\",\"Equatorial Guinea\",\"Eritrea\",\"Estonia\",\"Eswatini\",\"Ethiopia\",\"Europe\",\"European Union (27)\",\"Falkland Islands\",\"Faroe Islands\",\"Fiji\",\"Finland\",\"France\",\"French Guiana\",\"French Polynesia\",\"Gabon\",\"Gambia\",\"Georgia\",\"Germany\",\"Ghana\",\"Gibraltar\",\"Greece\",\"Greenland\",\"Grenada\",\"Guadeloupe\",\"Guam\",\"Guatemala\",\"Guernsey\",\"Guinea\",\"Guinea-Bissau\",\"Guyana\",\"Haiti\",\"High-income countries\",\"Honduras\",\"Hong Kong\",\"Hungary\",\"Iceland\",\"India\",\"Indonesia\",\"Iran\",\"Iraq\",\"Ireland\",\"Isle of Man\",\"Israel\",\"Italy\",\"Jamaica\",\"Japan\",\"Jersey\",\"Jordan\",\"Kazakhstan\",\"Kenya\",\"Kiribati\",\"Kosovo\",\"Kuwait\",\"Kyrgyzstan\",\"Laos\",\"Latvia\",\"Lebanon\",\"Lesotho\",\"Liberia\",\"Libya\",\"Liechtenstein\",\"Lithuania\",\"Low-income countries\",\"Lower-middle-income countries\",\"Luxembourg\",\"Macao\",\"Madagascar\",\"Malawi\",\"Malaysia\",\"Maldives\",\"Mali\",\"Malta\",\"Marshall Islands\",\"Martinique\",\"Mauritania\",\"Mauritius\",\"Mayotte\",\"Mexico\",\"Micronesia (country)\",\"Moldova\",\"Monaco\",\"Mongolia\",\"Montenegro\",\"Montserrat\",\"Morocco\",\"Mozambique\",\"Myanmar\",\"Namibia\",\"Nauru\",\"Nepal\",\"Netherlands\",\"New Caledonia\",\"New Zealand\",\"Nicaragua\",\"Niger\",\"Nigeria\",\"Niue\",\"North America\",\"North Korea\",\"North Macedonia\",\"Northern Cyprus\",\"Northern Ireland\",\"Northern Mariana Islands\",\"Norway\",\"Oceania\",\"Oman\",\"Pakistan\",\"Palau\",\"Palestine\",\"Panama\",\"Papua New Guinea\",\"Paraguay\",\"Peru\",\"Philippines\",\"Pitcairn\",\"Poland\",\"Portugal\",\"Puerto Rico\",\"Qatar\",\"Reunion\",\"Romania\",\"Russia\",\"Rwanda\",\"Saint Barthelemy\",\"Saint Helena\",\"Saint Kitts and Nevis\",\"Saint Lucia\",\"Saint Martin (French part)\",\"Saint Pierre and Miquelon\",\"Saint Vincent and the Grenadines\",\"Samoa\",\"San Marino\",\"Sao Tome and Principe\",\"Saudi Arabia\",\"Scotland\",\"Senegal\",\"Serbia\",\"Seychelles\",\"Sierra Leone\",\"Singapore\",\"Sint Maarten (Dutch part)\",\"Slovakia\",\"Slovenia\",\"Solomon Islands\",\"Somalia\",\"South Africa\",\"South America\",\"South Korea\",\"South Sudan\",\"Spain\",\"Sri Lanka\",\"Sudan\",\"Suriname\",\"Sweden\",\"Switzerland\",\"Syria\",\"Taiwan\",\"Tajikistan\",\"Tanzania\",\"Thailand\",\"Togo\",\"Tokelau\",\"Tonga\",\"Trinidad and Tobago\",\"Tunisia\",\"Turkey\",\"Turkmenistan\",\"Turks and Caicos Islands\",\"Tuvalu\",\"Uganda\",\"Ukraine\",\"United Arab Emirates\",\"United Kingdom\",\"United States\",\"United States Virgin Islands\",\"Upper-middle-income countries\",\"Uruguay\",\"Uzbekistan\",\"Vanuatu\",\"Vatican\",\"Venezuela\",\"Vietnam\",\"Wales\",\"Wallis and Futuna\",\"Western Sahara\",\"World\",\"Yemen\",\"Zambia\",\"Zimbabwe\"],\"locations\":[\"AFG\",\"OWID_AFR\",\"ALB\",\"DZA\",\"ASM\",\"AND\",\"AGO\",\"AIA\",\"ATG\",\"ARG\",\"ARM\",\"ABW\",\"OWID_ASI\",\"AUS\",\"AUT\",\"AZE\",\"BHS\",\"BHR\",\"BGD\",\"BRB\",\"BLR\",\"BEL\",\"BLZ\",\"BEN\",\"BMU\",\"BTN\",\"BOL\",\"BES\",\"BIH\",\"BWA\",\"BRA\",\"VGB\",\"BRN\",\"BGR\",\"BFA\",\"BDI\",\"KHM\",\"CMR\",\"CAN\",\"CPV\",\"CYM\",\"CAF\",\"TCD\",\"CHL\",\"CHN\",\"COL\",\"COM\",\"COG\",\"COK\",\"CRI\",\"CIV\",\"HRV\",\"CUB\",\"CUW\",\"CYP\",\"CZE\",\"COD\",\"DNK\",\"DJI\",\"DMA\",\"DOM\",\"TLS\",\"ECU\",\"EGY\",\"SLV\",\"OWID_ENG\",\"GNQ\",\"ERI\",\"EST\",\"SWZ\",\"ETH\",\"OWID_EUR\",\"OWID_EUN\",\"FLK\",\"FRO\",\"FJI\",\"FIN\",\"FRA\",\"GUF\",\"PYF\",\"GAB\",\"GMB\",\"GEO\",\"DEU\",\"GHA\",\"GIB\",\"GRC\",\"GRL\",\"GRD\",\"GLP\",\"GUM\",\"GTM\",\"GGY\",\"GIN\",\"GNB\",\"GUY\",\"HTI\",\"OWID_HIC\",\"HND\",\"HKG\",\"HUN\",\"ISL\",\"IND\",\"IDN\",\"IRN\",\"IRQ\",\"IRL\",\"IMN\",\"ISR\",\"ITA\",\"JAM\",\"JPN\",\"JEY\",\"JOR\",\"KAZ\",\"KEN\",\"KIR\",\"OWID_KOS\",\"KWT\",\"KGZ\",\"LAO\",\"LVA\",\"LBN\",\"LSO\",\"LBR\",\"LBY\",\"LIE\",\"LTU\",\"OWID_LIC\",\"OWID_LMC\",\"LUX\",\"MAC\",\"MDG\",\"MWI\",\"MYS\",\"MDV\",\"MLI\",\"MLT\",\"MHL\",\"MTQ\",\"MRT\",\"MUS\",\"MYT\",\"MEX\",\"FSM\",\"MDA\",\"MCO\",\"MNG\",\"MNE\",\"MSR\",\"MAR\",\"MOZ\",\"MMR\",\"NAM\",\"NRU\",\"NPL\",\"NLD\",\"NCL\",\"NZL\",\"NIC\",\"NER\",\"NGA\",\"NIU\",\"OWID_NAM\",\"PRK\",\"MKD\",\"OWID_CYN\",\"OWID_NIR\",\"MNP\",\"NOR\",\"OWID_OCE\",\"OMN\",\"PAK\",\"PLW\",\"PSE\",\"PAN\",\"PNG\",\"PRY\",\"PER\",\"PHL\",\"PCN\",\"POL\",\"PRT\",\"PRI\",\"QAT\",\"REU\",\"ROU\",\"RUS\",\"RWA\",\"BLM\",\"SHN\",\"KNA\",\"LCA\",\"MAF\",\"SPM\",\"VCT\",\"WSM\",\"SMR\",\"STP\",\"SAU\",\"OWID_SCT\",\"SEN\",\"SRB\",\"SYC\",\"SLE\",\"SGP\",\"SXM\",\"SVK\",\"SVN\",\"SLB\",\"SOM\",\"ZAF\",\"OWID_SAM\",\"KOR\",\"SSD\",\"ESP\",\"LKA\",\"SDN\",\"SUR\",\"SWE\",\"CHE\",\"SYR\",\"TWN\",\"TJK\",\"TZA\",\"THA\",\"TGO\",\"TKL\",\"TON\",\"TTO\",\"TUN\",\"TUR\",\"TKM\",\"TCA\",\"TUV\",\"UGA\",\"UKR\",\"ARE\",\"GBR\",\"USA\",\"VIR\",\"OWID_UMC\",\"URY\",\"UZB\",\"VUT\",\"VAT\",\"VEN\",\"VNM\",\"OWID_WLS\",\"WLF\",\"ESH\",\"OWID_WRL\",\"YEM\",\"ZMB\",\"ZWE\"],\"name\":\"\",\"z\":[5796.468,9088.877,118491.02,5984.05,172831.6,602280.44,3016.162,274890.88,98071.1,222455.06,156991.11,410271.62,63948.2,452699.0,671004.9,81178.445,98421.81,454276.25,12110.572,384600.7,108362.68,418562.72,177319.92,2037.573,291175.2,80286.07,100366.93,416067.56,125956.49,135536.98,178367.94,197084.3,763598.6,194845.4,983.56,4096.433,8099.134,4532.516,124134.43,124048.1,439497.84,3028.812,417.332,276229.6,69726.805,123543.3,10919.549,4180.042,498067.4,242966.97,2909.492,337121.47,100694.4,247546.55,523075.38,446155.97,986.445,582032.56,13798.259,240044.88,58865.52,17132.854,60449.453,4582.054,32151.248,null,9497.935,2988.457,452169.94,61821.89,3997.255,337990.34,413754.22,547083.94,641351.6,75097.78,269281.97,606706.0,328644.84,283131.66,20179.352,4789.353,491099.22,457123.1,5190.54,546092.3,544892.3,213714.42,168419.88,528290.6,316520.7,70057.125,554150.6,2744.335,4566.056,90603.38,2995.235,351468.5,45193.176,null,230352.08,553080.2,31598.86,24493.01,85204.44,55945.402,341503.62,451701.84,531855.56,449202.94,55361.973,270433.8,641502.3,155202.16,75088.555,6342.68,38971.19,159654.83,145394.48,12788.335,28979.996,519795.25,215842.16,15807.624,1475.817,70221.87,548810.25,486117.47,2712.27,28590.73,602376.2,null,2252.732,4335.124,153028.81,356207.4,1437.46,232482.77,406469.78,659169.44,13100.216,257157.16,137667.97,59243.242,283302.4,209711.42,441115.3,298725.5,408818.03,313449.5,34265.92,7160.744,11959.141,59706.86,456221.97,33768.65,482562.8,279186.16,514260.6,2404.667,376.028,1197.342,582429.5,205992.19,0.0,190695.11,null,null,323463.7,277204.28,333039.8,84446.055,6485.952,358299.6,132552.62,237417.66,4593.08,108832.664,135232.81,36330.51,88888.89,173783.28,543733.1,386523.97,177884.27,567494.2,184779.06,166703.84,9762.196,503014.25,403427.1,141383.66,169368.1,426465.5,594791.7,94785.52,79235.75,741418.25,29918.74,26152.596,null,5069.656,380413.34,413328.88,964.019,532073.56,262101.84,343127.25,641340.2,33228.562,1535.455,65291.246,159838.72,667636.06,1707.894,292302.16,29463.502,1295.842,132388.6,262715.12,507026.47,2556.432,null,1746.769,668.039,66901.21,4348.858,34602.074,161594.62,128012.02,95167.016,195325.25,0.0,148357.28,293947.25,3638.641,134785.47,104180.94,366308.0,302859.5,293443.22,88856.516,307099.0,5011.054,38391.758,50682.26,19590.072,116612.4,null,326928.1,null,97113.85,312.509,17359.357,16577.57],\"type\":\"choropleth\"}],                        {\"template\":{\"data\":{\"histogram2dcontour\":[{\"type\":\"histogram2dcontour\",\"colorbar\":{\"outlinewidth\":0,\"ticks\":\"\"},\"colorscale\":[[0.0,\"#0d0887\"],[0.1111111111111111,\"#46039f\"],[0.2222222222222222,\"#7201a8\"],[0.3333333333333333,\"#9c179e\"],[0.4444444444444444,\"#bd3786\"],[0.5555555555555556,\"#d8576b\"],[0.6666666666666666,\"#ed7953\"],[0.7777777777777778,\"#fb9f3a\"],[0.8888888888888888,\"#fdca26\"],[1.0,\"#f0f921\"]]}],\"choropleth\":[{\"type\":\"choropleth\",\"colorbar\":{\"outlinewidth\":0,\"ticks\":\"\"}}],\"histogram2d\":[{\"type\":\"histogram2d\",\"colorbar\":{\"outlinewidth\":0,\"ticks\":\"\"},\"colorscale\":[[0.0,\"#0d0887\"],[0.1111111111111111,\"#46039f\"],[0.2222222222222222,\"#7201a8\"],[0.3333333333333333,\"#9c179e\"],[0.4444444444444444,\"#bd3786\"],[0.5555555555555556,\"#d8576b\"],[0.6666666666666666,\"#ed7953\"],[0.7777777777777778,\"#fb9f3a\"],[0.8888888888888888,\"#fdca26\"],[1.0,\"#f0f921\"]]}],\"heatmap\":[{\"type\":\"heatmap\",\"colorbar\":{\"outlinewidth\":0,\"ticks\":\"\"},\"colorscale\":[[0.0,\"#0d0887\"],[0.1111111111111111,\"#46039f\"],[0.2222222222222222,\"#7201a8\"],[0.3333333333333333,\"#9c179e\"],[0.4444444444444444,\"#bd3786\"],[0.5555555555555556,\"#d8576b\"],[0.6666666666666666,\"#ed7953\"],[0.7777777777777778,\"#fb9f3a\"],[0.8888888888888888,\"#fdca26\"],[1.0,\"#f0f921\"]]}],\"heatmapgl\":[{\"type\":\"heatmapgl\",\"colorbar\":{\"outlinewidth\":0,\"ticks\":\"\"},\"colorscale\":[[0.0,\"#0d0887\"],[0.1111111111111111,\"#46039f\"],[0.2222222222222222,\"#7201a8\"],[0.3333333333333333,\"#9c179e\"],[0.4444444444444444,\"#bd3786\"],[0.5555555555555556,\"#d8576b\"],[0.6666666666666666,\"#ed7953\"],[0.7777777777777778,\"#fb9f3a\"],[0.8888888888888888,\"#fdca26\"],[1.0,\"#f0f921\"]]}],\"contourcarpet\":[{\"type\":\"contourcarpet\",\"colorbar\":{\"outlinewidth\":0,\"ticks\":\"\"}}],\"contour\":[{\"type\":\"contour\",\"colorbar\":{\"outlinewidth\":0,\"ticks\":\"\"},\"colorscale\":[[0.0,\"#0d0887\"],[0.1111111111111111,\"#46039f\"],[0.2222222222222222,\"#7201a8\"],[0.3333333333333333,\"#9c179e\"],[0.4444444444444444,\"#bd3786\"],[0.5555555555555556,\"#d8576b\"],[0.6666666666666666,\"#ed7953\"],[0.7777777777777778,\"#fb9f3a\"],[0.8888888888888888,\"#fdca26\"],[1.0,\"#f0f921\"]]}],\"surface\":[{\"type\":\"surface\",\"colorbar\":{\"outlinewidth\":0,\"ticks\":\"\"},\"colorscale\":[[0.0,\"#0d0887\"],[0.1111111111111111,\"#46039f\"],[0.2222222222222222,\"#7201a8\"],[0.3333333333333333,\"#9c179e\"],[0.4444444444444444,\"#bd3786\"],[0.5555555555555556,\"#d8576b\"],[0.6666666666666666,\"#ed7953\"],[0.7777777777777778,\"#fb9f3a\"],[0.8888888888888888,\"#fdca26\"],[1.0,\"#f0f921\"]]}],\"mesh3d\":[{\"type\":\"mesh3d\",\"colorbar\":{\"outlinewidth\":0,\"ticks\":\"\"}}],\"scatter\":[{\"fillpattern\":{\"fillmode\":\"overlay\",\"size\":10,\"solidity\":0.2},\"type\":\"scatter\"}],\"parcoords\":[{\"type\":\"parcoords\",\"line\":{\"colorbar\":{\"outlinewidth\":0,\"ticks\":\"\"}}}],\"scatterpolargl\":[{\"type\":\"scatterpolargl\",\"marker\":{\"colorbar\":{\"outlinewidth\":0,\"ticks\":\"\"}}}],\"bar\":[{\"error_x\":{\"color\":\"#2a3f5f\"},\"error_y\":{\"color\":\"#2a3f5f\"},\"marker\":{\"line\":{\"color\":\"#E5ECF6\",\"width\":0.5},\"pattern\":{\"fillmode\":\"overlay\",\"size\":10,\"solidity\":0.2}},\"type\":\"bar\"}],\"scattergeo\":[{\"type\":\"scattergeo\",\"marker\":{\"colorbar\":{\"outlinewidth\":0,\"ticks\":\"\"}}}],\"scatterpolar\":[{\"type\":\"scatterpolar\",\"marker\":{\"colorbar\":{\"outlinewidth\":0,\"ticks\":\"\"}}}],\"histogram\":[{\"marker\":{\"pattern\":{\"fillmode\":\"overlay\",\"size\":10,\"solidity\":0.2}},\"type\":\"histogram\"}],\"scattergl\":[{\"type\":\"scattergl\",\"marker\":{\"colorbar\":{\"outlinewidth\":0,\"ticks\":\"\"}}}],\"scatter3d\":[{\"type\":\"scatter3d\",\"line\":{\"colorbar\":{\"outlinewidth\":0,\"ticks\":\"\"}},\"marker\":{\"colorbar\":{\"outlinewidth\":0,\"ticks\":\"\"}}}],\"scattermapbox\":[{\"type\":\"scattermapbox\",\"marker\":{\"colorbar\":{\"outlinewidth\":0,\"ticks\":\"\"}}}],\"scatterternary\":[{\"type\":\"scatterternary\",\"marker\":{\"colorbar\":{\"outlinewidth\":0,\"ticks\":\"\"}}}],\"scattercarpet\":[{\"type\":\"scattercarpet\",\"marker\":{\"colorbar\":{\"outlinewidth\":0,\"ticks\":\"\"}}}],\"carpet\":[{\"aaxis\":{\"endlinecolor\":\"#2a3f5f\",\"gridcolor\":\"white\",\"linecolor\":\"white\",\"minorgridcolor\":\"white\",\"startlinecolor\":\"#2a3f5f\"},\"baxis\":{\"endlinecolor\":\"#2a3f5f\",\"gridcolor\":\"white\",\"linecolor\":\"white\",\"minorgridcolor\":\"white\",\"startlinecolor\":\"#2a3f5f\"},\"type\":\"carpet\"}],\"table\":[{\"cells\":{\"fill\":{\"color\":\"#EBF0F8\"},\"line\":{\"color\":\"white\"}},\"header\":{\"fill\":{\"color\":\"#C8D4E3\"},\"line\":{\"color\":\"white\"}},\"type\":\"table\"}],\"barpolar\":[{\"marker\":{\"line\":{\"color\":\"#E5ECF6\",\"width\":0.5},\"pattern\":{\"fillmode\":\"overlay\",\"size\":10,\"solidity\":0.2}},\"type\":\"barpolar\"}],\"pie\":[{\"automargin\":true,\"type\":\"pie\"}]},\"layout\":{\"autotypenumbers\":\"strict\",\"colorway\":[\"#636efa\",\"#EF553B\",\"#00cc96\",\"#ab63fa\",\"#FFA15A\",\"#19d3f3\",\"#FF6692\",\"#B6E880\",\"#FF97FF\",\"#FECB52\"],\"font\":{\"color\":\"#2a3f5f\"},\"hovermode\":\"closest\",\"hoverlabel\":{\"align\":\"left\"},\"paper_bgcolor\":\"white\",\"plot_bgcolor\":\"#E5ECF6\",\"polar\":{\"bgcolor\":\"#E5ECF6\",\"angularaxis\":{\"gridcolor\":\"white\",\"linecolor\":\"white\",\"ticks\":\"\"},\"radialaxis\":{\"gridcolor\":\"white\",\"linecolor\":\"white\",\"ticks\":\"\"}},\"ternary\":{\"bgcolor\":\"#E5ECF6\",\"aaxis\":{\"gridcolor\":\"white\",\"linecolor\":\"white\",\"ticks\":\"\"},\"baxis\":{\"gridcolor\":\"white\",\"linecolor\":\"white\",\"ticks\":\"\"},\"caxis\":{\"gridcolor\":\"white\",\"linecolor\":\"white\",\"ticks\":\"\"}},\"coloraxis\":{\"colorbar\":{\"outlinewidth\":0,\"ticks\":\"\"}},\"colorscale\":{\"sequential\":[[0.0,\"#0d0887\"],[0.1111111111111111,\"#46039f\"],[0.2222222222222222,\"#7201a8\"],[0.3333333333333333,\"#9c179e\"],[0.4444444444444444,\"#bd3786\"],[0.5555555555555556,\"#d8576b\"],[0.6666666666666666,\"#ed7953\"],[0.7777777777777778,\"#fb9f3a\"],[0.8888888888888888,\"#fdca26\"],[1.0,\"#f0f921\"]],\"sequentialminus\":[[0.0,\"#0d0887\"],[0.1111111111111111,\"#46039f\"],[0.2222222222222222,\"#7201a8\"],[0.3333333333333333,\"#9c179e\"],[0.4444444444444444,\"#bd3786\"],[0.5555555555555556,\"#d8576b\"],[0.6666666666666666,\"#ed7953\"],[0.7777777777777778,\"#fb9f3a\"],[0.8888888888888888,\"#fdca26\"],[1.0,\"#f0f921\"]],\"diverging\":[[0,\"#8e0152\"],[0.1,\"#c51b7d\"],[0.2,\"#de77ae\"],[0.3,\"#f1b6da\"],[0.4,\"#fde0ef\"],[0.5,\"#f7f7f7\"],[0.6,\"#e6f5d0\"],[0.7,\"#b8e186\"],[0.8,\"#7fbc41\"],[0.9,\"#4d9221\"],[1,\"#276419\"]]},\"xaxis\":{\"gridcolor\":\"white\",\"linecolor\":\"white\",\"ticks\":\"\",\"title\":{\"standoff\":15},\"zerolinecolor\":\"white\",\"automargin\":true,\"zerolinewidth\":2},\"yaxis\":{\"gridcolor\":\"white\",\"linecolor\":\"white\",\"ticks\":\"\",\"title\":{\"standoff\":15},\"zerolinecolor\":\"white\",\"automargin\":true,\"zerolinewidth\":2},\"scene\":{\"xaxis\":{\"backgroundcolor\":\"#E5ECF6\",\"gridcolor\":\"white\",\"linecolor\":\"white\",\"showbackground\":true,\"ticks\":\"\",\"zerolinecolor\":\"white\",\"gridwidth\":2},\"yaxis\":{\"backgroundcolor\":\"#E5ECF6\",\"gridcolor\":\"white\",\"linecolor\":\"white\",\"showbackground\":true,\"ticks\":\"\",\"zerolinecolor\":\"white\",\"gridwidth\":2},\"zaxis\":{\"backgroundcolor\":\"#E5ECF6\",\"gridcolor\":\"white\",\"linecolor\":\"white\",\"showbackground\":true,\"ticks\":\"\",\"zerolinecolor\":\"white\",\"gridwidth\":2}},\"shapedefaults\":{\"line\":{\"color\":\"#2a3f5f\"}},\"annotationdefaults\":{\"arrowcolor\":\"#2a3f5f\",\"arrowhead\":0,\"arrowwidth\":1},\"geo\":{\"bgcolor\":\"white\",\"landcolor\":\"#E5ECF6\",\"subunitcolor\":\"white\",\"showland\":true,\"showlakes\":true,\"lakecolor\":\"white\"},\"title\":{\"x\":0.05},\"mapbox\":{\"style\":\"light\"}}},\"geo\":{\"domain\":{\"x\":[0.0,1.0],\"y\":[0.0,1.0]},\"center\":{}},\"coloraxis\":{\"colorbar\":{\"title\":{\"text\":\"total_cases_per_million\"}},\"colorscale\":[[0.0,\"#440154\"],[0.1111111111111111,\"#482878\"],[0.2222222222222222,\"#3e4989\"],[0.3333333333333333,\"#31688e\"],[0.4444444444444444,\"#26828e\"],[0.5555555555555556,\"#1f9e89\"],[0.6666666666666666,\"#35b779\"],[0.7777777777777778,\"#6ece58\"],[0.8888888888888888,\"#b5de2b\"],[1.0,\"#fde725\"]]},\"legend\":{\"tracegroupgap\":0},\"title\":{\"text\":\"Global COVID-19 Cases per Million People\"}},                        {\"responsive\": true}                    ).then(function(){\n",
       "                            \n",
       "var gd = document.getElementById('cafa5990-294e-45b1-b1d2-3847b9c2d692');\n",
       "var x = new MutationObserver(function (mutations, observer) {{\n",
       "        var display = window.getComputedStyle(gd).display;\n",
       "        if (!display || display === 'none') {{\n",
       "            console.log([gd, 'removed!']);\n",
       "            Plotly.purge(gd);\n",
       "            observer.disconnect();\n",
       "        }}\n",
       "}});\n",
       "\n",
       "// Listen for the removal of the full notebook cells\n",
       "var notebookContainer = gd.closest('#notebook-container');\n",
       "if (notebookContainer) {{\n",
       "    x.observe(notebookContainer, {childList: true});\n",
       "}}\n",
       "\n",
       "// Listen for the clearing of the current output cell\n",
       "var outputEl = gd.closest('.output');\n",
       "if (outputEl) {{\n",
       "    x.observe(outputEl, {childList: true});\n",
       "}}\n",
       "\n",
       "                        })                };                });            </script>        </div>"
      ]
     },
     "metadata": {},
     "output_type": "display_data"
    }
   ],
   "source": [
    "# Get latest data for each country\n",
    "latest_data = covid.sort_values('date').groupby('location').last().reset_index()\n",
    "\n",
    "# Create interactive world map\n",
    "fig = px.choropleth(latest_data,\n",
    "                    locations=\"iso_code\",\n",
    "                    color=\"total_cases_per_million\",\n",
    "                    hover_name=\"location\",\n",
    "                    hover_data=[\"total_cases\", \"total_deaths\"],\n",
    "                    color_continuous_scale='Viridis',\n",
    "                    title=\"Global COVID-19 Cases per Million People\")\n",
    "\n",
    "fig.show()"
   ]
  },
  {
   "cell_type": "code",
   "execution_count": 10,
   "id": "e4b7643f-74d6-4850-9019-a02a89f342b8",
   "metadata": {},
   "outputs": [
    {
     "name": "stdout",
     "output_type": "stream",
     "text": [
      "🏆 Top 5 Vaccinated Countries (per 100 people):\n"
     ]
    },
    {
     "data": {
      "text/html": [
       "<div>\n",
       "<style scoped>\n",
       "    .dataframe tbody tr th:only-of-type {\n",
       "        vertical-align: middle;\n",
       "    }\n",
       "\n",
       "    .dataframe tbody tr th {\n",
       "        vertical-align: top;\n",
       "    }\n",
       "\n",
       "    .dataframe thead th {\n",
       "        text-align: right;\n",
       "    }\n",
       "</style>\n",
       "<table border=\"1\" class=\"dataframe\">\n",
       "  <thead>\n",
       "    <tr style=\"text-align: right;\">\n",
       "      <th></th>\n",
       "      <th>location</th>\n",
       "      <th>people_vaccinated_per_hundred</th>\n",
       "    </tr>\n",
       "  </thead>\n",
       "  <tbody>\n",
       "    <tr>\n",
       "      <th>85</th>\n",
       "      <td>Gibraltar</td>\n",
       "      <td>129.07</td>\n",
       "    </tr>\n",
       "    <tr>\n",
       "      <th>227</th>\n",
       "      <td>Tokelau</td>\n",
       "      <td>116.38</td>\n",
       "    </tr>\n",
       "    <tr>\n",
       "      <th>184</th>\n",
       "      <td>Qatar</td>\n",
       "      <td>105.83</td>\n",
       "    </tr>\n",
       "    <tr>\n",
       "      <th>237</th>\n",
       "      <td>United Arab Emirates</td>\n",
       "      <td>105.83</td>\n",
       "    </tr>\n",
       "    <tr>\n",
       "      <th>154</th>\n",
       "      <td>Nauru</td>\n",
       "      <td>103.27</td>\n",
       "    </tr>\n",
       "  </tbody>\n",
       "</table>\n",
       "</div>"
      ],
      "text/plain": [
       "                 location  people_vaccinated_per_hundred\n",
       "85              Gibraltar                         129.07\n",
       "227               Tokelau                         116.38\n",
       "184                 Qatar                         105.83\n",
       "237  United Arab Emirates                         105.83\n",
       "154                 Nauru                         103.27"
      ]
     },
     "execution_count": 10,
     "metadata": {},
     "output_type": "execute_result"
    }
   ],
   "source": [
    "vaccine_leaders = latest_data.sort_values('people_vaccinated_per_hundred', ascending=False).head(5)\n",
    "print(\"🏆 Top 5 Vaccinated Countries (per 100 people):\")\n",
    "vaccine_leaders[['location', 'people_vaccinated_per_hundred']]"
   ]
  },
  {
   "cell_type": "code",
   "execution_count": null,
   "id": "e7f81da4-dc5f-4006-b745-32b391c4ede1",
   "metadata": {},
   "outputs": [],
   "source": []
  }
 ],
 "metadata": {
  "kernelspec": {
   "display_name": "anaconda-panel-2023.05-py310",
   "language": "python",
   "name": "conda-env-anaconda-panel-2023.05-py310-py"
  },
  "language_info": {
   "codemirror_mode": {
    "name": "ipython",
    "version": 3
   },
   "file_extension": ".py",
   "mimetype": "text/x-python",
   "name": "python",
   "nbconvert_exporter": "python",
   "pygments_lexer": "ipython3",
   "version": "3.11.5"
  }
 },
 "nbformat": 4,
 "nbformat_minor": 5
}
